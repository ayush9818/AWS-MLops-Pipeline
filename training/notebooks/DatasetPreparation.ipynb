{
 "cells": [
  {
   "cell_type": "code",
   "execution_count": 64,
   "id": "c72177fe",
   "metadata": {},
   "outputs": [],
   "source": [
    "import os\n",
    "import json\n",
    "import pandas as pd"
   ]
  },
  {
   "cell_type": "code",
   "execution_count": 65,
   "id": "b9daf518",
   "metadata": {},
   "outputs": [],
   "source": [
    "with open('../configs/output.manifest','r') as f:\n",
    "    dataset = f.read().split('\\n')"
   ]
  },
  {
   "cell_type": "code",
   "execution_count": 66,
   "id": "9a5e7e11",
   "metadata": {},
   "outputs": [],
   "source": [
    "def format_annotation(img_h, img_w, x_top, y_top, box_w, box_h, class_id):\n",
    "    center_x = round((x_top + (box_w / 2)) / img_w,4)\n",
    "    center_y = round((y_top + (box_h / 2)) / img_h,4)\n",
    "    w = round(box_w / img_w,4)\n",
    "    h = round(box_h / img_h,4)\n",
    "    anno_dict = {\n",
    "        'label' : class_id,\n",
    "        'center_x' : center_x,\n",
    "        'center_y' : center_y,\n",
    "        'w' : w,\n",
    "        'h' : h\n",
    "    }\n",
    "    return anno_dict\n",
    "                \n",
    "\n",
    "def get_annotations(anno_info, label_info):\n",
    "    img_h = anno_info.get('image_size')[0].get('height')\n",
    "    img_w = anno_info.get('image_size')[0].get('width')\n",
    "    temp_anno_list = []\n",
    "    for anno in anno_info.get('annotations'):\n",
    "        class_id = anno.get('class_id')\n",
    "        x_top = anno.get('left')\n",
    "        y_top = anno.get('top')\n",
    "        box_w = anno.get('width')\n",
    "        box_h = anno.get('height')\n",
    "        anno_dict = format_annotation(img_h, img_w, x_top, y_top, box_w, box_h, class_id)\n",
    "        temp_anno_list.append(anno_dict)\n",
    "    return temp_anno_list\n",
    "        \n",
    "    "
   ]
  },
  {
   "cell_type": "code",
   "execution_count": 67,
   "id": "4d9d00c4",
   "metadata": {},
   "outputs": [],
   "source": [
    "image_path_list = []\n",
    "image_name_list = []\n",
    "anno_list = []\n",
    "is_background_list = []\n",
    "\n",
    "\n",
    "for image_data in dataset[:-1]:\n",
    "    image_data = json.loads(image_data)\n",
    "    image_path = image_data.get('source-ref')\n",
    "    anno_info = image_data.get('category')\n",
    "    label_info = image_data.get('category-metadata').get('class-map')\n",
    "    image_anno_list = get_annotations(anno_info, label_info)\n",
    "    \n",
    "    image_path_list.append(image_path)\n",
    "    image_name_list.append(os.path.basename(image_path))\n",
    "    anno_list.append(image_anno_list)\n",
    "    if len(image_anno_list) == 0:\n",
    "        is_background_list.append(True)\n",
    "    else:\n",
    "        is_background_list.append(False)"
   ]
  },
  {
   "cell_type": "code",
   "execution_count": 68,
   "id": "2b8cb2ed",
   "metadata": {},
   "outputs": [],
   "source": [
    "data_df = pd.DataFrame({\n",
    "    \"image_name\" : image_name_list,\n",
    "    \"s3_path\" : image_path_list,\n",
    "    \"annotations\" : anno_list,\n",
    "    \"is_background\" : is_background_list\n",
    "    }\n",
    ")"
   ]
  },
  {
   "cell_type": "code",
   "execution_count": 69,
   "id": "fdcdd338",
   "metadata": {},
   "outputs": [
    {
     "data": {
      "text/html": [
       "<div>\n",
       "<style scoped>\n",
       "    .dataframe tbody tr th:only-of-type {\n",
       "        vertical-align: middle;\n",
       "    }\n",
       "\n",
       "    .dataframe tbody tr th {\n",
       "        vertical-align: top;\n",
       "    }\n",
       "\n",
       "    .dataframe thead th {\n",
       "        text-align: right;\n",
       "    }\n",
       "</style>\n",
       "<table border=\"1\" class=\"dataframe\">\n",
       "  <thead>\n",
       "    <tr style=\"text-align: right;\">\n",
       "      <th></th>\n",
       "      <th>image_name</th>\n",
       "      <th>s3_path</th>\n",
       "      <th>annotations</th>\n",
       "      <th>is_background</th>\n",
       "    </tr>\n",
       "  </thead>\n",
       "  <tbody>\n",
       "    <tr>\n",
       "      <th>0</th>\n",
       "      <td>maksssksksss0.png</td>\n",
       "      <td>s3://sixsense-organization-assets/ayush/labeli...</td>\n",
       "      <td>[{'label': 0, 'center_x': 0.4092, 'center_y': ...</td>\n",
       "      <td>False</td>\n",
       "    </tr>\n",
       "    <tr>\n",
       "      <th>1</th>\n",
       "      <td>maksssksksss1.png</td>\n",
       "      <td>s3://sixsense-organization-assets/ayush/labeli...</td>\n",
       "      <td>[{'label': 0, 'center_x': 0.61, 'center_y': 0....</td>\n",
       "      <td>False</td>\n",
       "    </tr>\n",
       "    <tr>\n",
       "      <th>2</th>\n",
       "      <td>maksssksksss2.png</td>\n",
       "      <td>s3://sixsense-organization-assets/ayush/labeli...</td>\n",
       "      <td>[{'label': 0, 'center_x': 0.2213, 'center_y': ...</td>\n",
       "      <td>False</td>\n",
       "    </tr>\n",
       "    <tr>\n",
       "      <th>3</th>\n",
       "      <td>maksssksksss3.png</td>\n",
       "      <td>s3://sixsense-organization-assets/ayush/labeli...</td>\n",
       "      <td>[{'label': 0, 'center_x': 0.4963, 'center_y': ...</td>\n",
       "      <td>False</td>\n",
       "    </tr>\n",
       "    <tr>\n",
       "      <th>4</th>\n",
       "      <td>maksssksksss4.png</td>\n",
       "      <td>s3://sixsense-organization-assets/ayush/labeli...</td>\n",
       "      <td>[{'label': 0, 'center_x': 0.4252, 'center_y': ...</td>\n",
       "      <td>False</td>\n",
       "    </tr>\n",
       "  </tbody>\n",
       "</table>\n",
       "</div>"
      ],
      "text/plain": [
       "          image_name                                            s3_path  \\\n",
       "0  maksssksksss0.png  s3://sixsense-organization-assets/ayush/labeli...   \n",
       "1  maksssksksss1.png  s3://sixsense-organization-assets/ayush/labeli...   \n",
       "2  maksssksksss2.png  s3://sixsense-organization-assets/ayush/labeli...   \n",
       "3  maksssksksss3.png  s3://sixsense-organization-assets/ayush/labeli...   \n",
       "4  maksssksksss4.png  s3://sixsense-organization-assets/ayush/labeli...   \n",
       "\n",
       "                                         annotations  is_background  \n",
       "0  [{'label': 0, 'center_x': 0.4092, 'center_y': ...          False  \n",
       "1  [{'label': 0, 'center_x': 0.61, 'center_y': 0....          False  \n",
       "2  [{'label': 0, 'center_x': 0.2213, 'center_y': ...          False  \n",
       "3  [{'label': 0, 'center_x': 0.4963, 'center_y': ...          False  \n",
       "4  [{'label': 0, 'center_x': 0.4252, 'center_y': ...          False  "
      ]
     },
     "execution_count": 69,
     "metadata": {},
     "output_type": "execute_result"
    }
   ],
   "source": [
    "data_df.head()"
   ]
  },
  {
   "cell_type": "code",
   "execution_count": 70,
   "id": "0ca471dd",
   "metadata": {},
   "outputs": [
    {
     "data": {
      "text/plain": [
       "[{'label': 0,\n",
       "  'center_x': 0.4092,\n",
       "  'center_y': 0.3538,\n",
       "  'w': 0.1309,\n",
       "  'h': 0.1339}]"
      ]
     },
     "execution_count": 70,
     "metadata": {},
     "output_type": "execute_result"
    }
   ],
   "source": [
    "data_df.annotations.tolist()[0]"
   ]
  },
  {
   "cell_type": "code",
   "execution_count": 75,
   "id": "51743c02",
   "metadata": {},
   "outputs": [],
   "source": [
    "def prepare_label_files(df, label_save_path):\n",
    "    for idx,row in df.iterrows():\n",
    "        if row['is_background']:\n",
    "            continue\n",
    "        image_path = row['s3_path']\n",
    "        image_name = os.path.basename(image_path)\n",
    "        image_extension = image_name.split('.')[-1]\n",
    "        label_file_name = image_name.replace(f\".{image_extension}\",\".txt\")\n",
    "        print(image_name, image_extension, label_file_name)\n",
    "        with open(os.path.join(label_save_path,label_file_name),'w') as f:\n",
    "            for anno in row['annotations']:\n",
    "                f.writelines(f\"{anno['label']} {anno['center_x']} {anno['center_y']} {anno['w']} {anno['h']}\\n\")"
   ]
  },
  {
   "cell_type": "code",
   "execution_count": 76,
   "id": "af4d6ab9",
   "metadata": {},
   "outputs": [
    {
     "name": "stdout",
     "output_type": "stream",
     "text": [
      "maksssksksss0.png png maksssksksss0.txt\n",
      "maksssksksss1.png png maksssksksss1.txt\n",
      "maksssksksss2.png png maksssksksss2.txt\n",
      "maksssksksss3.png png maksssksksss3.txt\n",
      "maksssksksss4.png png maksssksksss4.txt\n",
      "maksssksksss5.png png maksssksksss5.txt\n",
      "maksssksksss6.png png maksssksksss6.txt\n"
     ]
    }
   ],
   "source": [
    "save_path = '../data/sample/'\n",
    "os.makedirs(save_path,exist_ok=True)\n",
    "prepare_label_files(data_df,save_path)"
   ]
  },
  {
   "cell_type": "code",
   "execution_count": 79,
   "id": "8c7ad47c",
   "metadata": {},
   "outputs": [],
   "source": [
    "import boto3\n",
    "resource = boto3.resource('s3')\n",
    "my_bucket = resource.Bucket('sixsense-organization-assets')\n",
    "my_bucket.download_file('ayush/labeling_job_test/dataset-small/maksssksksss4.png','./maksssksksss4.png')"
   ]
  },
  {
   "cell_type": "code",
   "execution_count": 81,
   "id": "497edb56",
   "metadata": {},
   "outputs": [],
   "source": [
    "from ultralytics import YOLO\n",
    "import warnings \n",
    "warnings.filterwarnings('ignore')\n",
    "model = YOLO('../runs/detect/train/weights/best.pt')"
   ]
  },
  {
   "cell_type": "code",
   "execution_count": 105,
   "id": "42a08c46",
   "metadata": {},
   "outputs": [
    {
     "name": "stderr",
     "output_type": "stream",
     "text": [
      "\n",
      "image 1/1 /Users/dare_devil/Documents/pythonProject/Asurion/AWS_SAGEMAKER_PIPELINE/training/data/test1/images/val/maksssksksss6.png: 448x640 82 MASKs, 79.2ms\n",
      "Speed: 0.9ms pre-process, 79.2ms inference, 0.5ms postprocess per image at shape (1, 3, 640, 640)\n"
     ]
    }
   ],
   "source": [
    "img = '../data/test1/images/val/maksssksksss6.png'\n",
    "params = {'conf' : 0.01}\n",
    "result = model.predict(img, **params)"
   ]
  },
  {
   "cell_type": "code",
   "execution_count": 108,
   "id": "6b35101d",
   "metadata": {},
   "outputs": [
    {
     "name": "stdout",
     "output_type": "stream",
     "text": [
      "tensor([[0.48917, 0.50988, 0.71167, 0.96543],\n",
      "        [0.90833, 0.70864, 0.18333, 0.37037],\n",
      "        [0.50000, 0.73951, 0.68000, 0.50123],\n",
      "        [0.05833, 0.80494, 0.11667, 0.37531],\n",
      "        [0.77667, 0.73086, 0.44667, 0.53333],\n",
      "        [0.78083, 0.69136, 0.20500, 0.50864],\n",
      "        [0.84083, 0.74938, 0.31833, 0.49630],\n",
      "        [0.14167, 0.79753, 0.28333, 0.38519],\n",
      "        [0.05667, 0.67654, 0.11333, 0.63210],\n",
      "        [0.19250, 0.76420, 0.38167, 0.42716],\n",
      "        [0.51417, 0.87407, 0.64833, 0.23704],\n",
      "        [0.49000, 0.30988, 0.35333, 0.57037],\n",
      "        [0.03583, 0.55062, 0.07167, 0.83457],\n",
      "        [0.16667, 0.23827, 0.33333, 0.47654],\n",
      "        [0.20667, 0.09506, 0.41333, 0.19012],\n",
      "        [0.07417, 0.24691, 0.14833, 0.49383],\n",
      "        [0.86333, 0.23457, 0.27333, 0.46914],\n",
      "        [0.66667, 0.30000, 0.63667, 0.60000],\n",
      "        [0.02583, 0.40617, 0.05167, 0.59012],\n",
      "        [0.11917, 0.13210, 0.23833, 0.26420],\n",
      "        [0.86167, 0.59383, 0.27667, 0.70864],\n",
      "        [0.72083, 0.93210, 0.55833, 0.13086],\n",
      "        [0.65833, 0.08025, 0.62667, 0.16049],\n",
      "        [0.91583, 0.29136, 0.16833, 0.54321],\n",
      "        [0.74750, 0.26049, 0.47833, 0.52099],\n",
      "        [0.47917, 0.10247, 0.39833, 0.20494],\n",
      "        [0.05417, 0.30247, 0.10833, 0.56543],\n",
      "        [0.49750, 0.82593, 0.68500, 0.33333],\n",
      "        [0.16167, 0.53580, 0.32333, 0.86420],\n",
      "        [0.54750, 0.09012, 0.42500, 0.18025],\n",
      "        [0.83500, 0.29383, 0.33000, 0.53827],\n",
      "        [0.53167, 0.78519, 0.81667, 0.40988],\n",
      "        [0.86583, 0.38765, 0.26833, 0.61235],\n",
      "        [0.38667, 0.09383, 0.52667, 0.18765],\n",
      "        [0.81167, 0.11358, 0.37667, 0.22716],\n",
      "        [0.49917, 0.23086, 0.33500, 0.42222],\n",
      "        [0.16333, 0.34815, 0.32667, 0.59259],\n",
      "        [0.28583, 0.24938, 0.51833, 0.49877],\n",
      "        [0.78000, 0.09383, 0.44000, 0.18765],\n",
      "        [0.28667, 0.09383, 0.53333, 0.18765],\n",
      "        [0.69333, 0.44198, 0.59667, 0.85432],\n",
      "        [0.09167, 0.19630, 0.18333, 0.39259],\n",
      "        [0.38583, 0.80247, 0.76500, 0.38519],\n",
      "        [0.93000, 0.39136, 0.14000, 0.59012],\n",
      "        [0.87917, 0.09259, 0.24167, 0.18519],\n",
      "        [0.77667, 0.38765, 0.44000, 0.72099],\n",
      "        [0.50500, 0.92222, 0.66333, 0.15556],\n",
      "        [0.88917, 0.62963, 0.22167, 0.60247],\n",
      "        [0.36833, 0.23333, 0.52000, 0.44198],\n",
      "        [0.81750, 0.51481, 0.34167, 0.56543],\n",
      "        [0.93667, 0.58272, 0.12667, 0.70617],\n",
      "        [0.31750, 0.30864, 0.59500, 0.61235],\n",
      "        [0.37667, 0.31358, 0.53667, 0.50864],\n",
      "        [0.83417, 0.66296, 0.33167, 0.47160],\n",
      "        [0.33417, 0.83827, 0.41833, 0.30370],\n",
      "        [0.07917, 0.56173, 0.15833, 0.85185],\n",
      "        [0.46333, 0.39259, 0.42333, 0.67160],\n",
      "        [0.27833, 0.76049, 0.31000, 0.40988],\n",
      "        [0.40833, 0.50617, 0.76000, 0.81481],\n",
      "        [0.13333, 0.29136, 0.26667, 0.55802],\n",
      "        [0.27000, 0.73457, 0.43667, 0.48642],\n",
      "        [0.83417, 0.18642, 0.33167, 0.37284],\n",
      "        [0.53583, 0.93580, 0.79500, 0.12840],\n",
      "        [0.36833, 0.65432, 0.72000, 0.64691],\n",
      "        [0.69500, 0.15926, 0.56000, 0.31852],\n",
      "        [0.38167, 0.87654, 0.51333, 0.23704],\n",
      "        [0.66000, 0.20617, 0.62333, 0.41235],\n",
      "        [0.12750, 0.46420, 0.25500, 0.72099],\n",
      "        [0.13583, 0.18395, 0.27167, 0.36790],\n",
      "        [0.27250, 0.16790, 0.48500, 0.33580],\n",
      "        [0.20833, 0.30247, 0.41000, 0.59506],\n",
      "        [0.39250, 0.92099, 0.54500, 0.15802],\n",
      "        [0.91167, 0.92222, 0.17333, 0.15556],\n",
      "        [0.46167, 0.19630, 0.36333, 0.38272],\n",
      "        [0.53833, 0.64321, 0.61333, 0.65926],\n",
      "        [0.39000, 0.76667, 0.52667, 0.45185],\n",
      "        [0.34500, 0.60864, 0.44000, 0.75802],\n",
      "        [0.20500, 0.18148, 0.40667, 0.36296],\n",
      "        [0.41833, 0.57407, 0.57667, 0.80741],\n",
      "        [0.89500, 0.20494, 0.21000, 0.40988],\n",
      "        [0.19417, 0.44444, 0.38500, 0.72593],\n",
      "        [0.53500, 0.71235, 0.92333, 0.56543]])\n",
      "tensor([0., 0., 0., 0., 0., 0., 0., 0., 0., 0., 0., 0., 0., 0., 0., 0., 0., 0., 0., 0., 0., 0., 0., 0., 0., 0., 0., 0., 0., 0., 0., 0., 0., 0., 0., 0., 0., 0., 0., 0., 0., 0., 0., 0., 0., 0., 0., 0., 0., 0., 0., 0., 0., 0., 0., 0., 0., 0., 0., 0., 0., 0., 0., 0., 0., 0., 0., 0., 0., 0., 0., 0., 0., 0., 0., 0., 0., 0., 0., 0., 0., 0.])\n"
     ]
    }
   ],
   "source": [
    "for r in result:\n",
    "    print(r.boxes.xywhn)\n",
    "    print(r.boxes.cls)"
   ]
  },
  {
   "cell_type": "code",
   "execution_count": null,
   "id": "1f842f81",
   "metadata": {},
   "outputs": [],
   "source": []
  }
 ],
 "metadata": {
  "kernelspec": {
   "display_name": "Python 3 (ipykernel)",
   "language": "python",
   "name": "python3"
  },
  "language_info": {
   "codemirror_mode": {
    "name": "ipython",
    "version": 3
   },
   "file_extension": ".py",
   "mimetype": "text/x-python",
   "name": "python",
   "nbconvert_exporter": "python",
   "pygments_lexer": "ipython3",
   "version": "3.8.9"
  }
 },
 "nbformat": 4,
 "nbformat_minor": 5
}

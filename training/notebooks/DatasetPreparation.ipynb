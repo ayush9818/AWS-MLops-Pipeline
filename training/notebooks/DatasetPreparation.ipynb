{
 "cells": [
  {
   "cell_type": "code",
   "execution_count": 41,
   "id": "c72177fe",
   "metadata": {},
   "outputs": [],
   "source": [
    "import os\n",
    "import json\n",
    "import pandas as pd"
   ]
  },
  {
   "cell_type": "code",
   "execution_count": 42,
   "id": "b9daf518",
   "metadata": {},
   "outputs": [],
   "source": [
    "with open('../configs/output.manifest','r') as f:\n",
    "    dataset = f.read().split('\\n')"
   ]
  },
  {
   "cell_type": "code",
   "execution_count": 51,
   "id": "9a5e7e11",
   "metadata": {},
   "outputs": [],
   "source": [
    "def format_annotation(img_h, img_w, x_top, y_top, box_w, box_h, class_id):\n",
    "    center_x = round((x_top + (box_w / 2)) / img_w,4)\n",
    "    center_y = round((y_top + (box_h / 2)) / img_h,4)\n",
    "    w = round(box_w / img_w,4)\n",
    "    h = round(box_h / img_h,4)\n",
    "    anno_dict = {\n",
    "        'label' : class_id,\n",
    "        'center_x' : center_x,\n",
    "        'center_y' : center_y,\n",
    "        'w' : w,\n",
    "        'h' : h\n",
    "    }\n",
    "    return anno_dict\n",
    "                \n",
    "\n",
    "def get_annotations(anno_info, label_info):\n",
    "    img_h = anno_info.get('image_size')[0].get('height')\n",
    "    img_w = anno_info.get('image_size')[0].get('width')\n",
    "    temp_anno_list = []\n",
    "    for anno in anno_info.get('annotations'):\n",
    "        class_id = anno.get('class_id')\n",
    "        x_top = anno.get('left')\n",
    "        y_top = anno.get('top')\n",
    "        box_w = anno.get('width')\n",
    "        box_h = anno.get('height')\n",
    "        anno_dict = format_annotation(img_h, img_w, x_top, y_top, box_w, box_h, class_id)\n",
    "        temp_anno_list.append(anno_dict)\n",
    "    return temp_anno_list\n",
    "        \n",
    "    "
   ]
  },
  {
   "cell_type": "code",
   "execution_count": 52,
   "id": "4d9d00c4",
   "metadata": {},
   "outputs": [],
   "source": [
    "image_path_list = []\n",
    "image_name_list = []\n",
    "anno_list = []\n",
    "is_background_list = []\n",
    "\n",
    "\n",
    "for image_data in dataset[:-1]:\n",
    "    image_data = json.loads(image_data)\n",
    "    image_path = image_data.get('source-ref')\n",
    "    anno_info = image_data.get('category')\n",
    "    label_info = image_data.get('category-metadata').get('class-map')\n",
    "    image_anno_list = get_annotations(anno_info, label_info)\n",
    "    \n",
    "    image_path_list.append(image_path)\n",
    "    image_name_list.append(os.path.basename(image_path))\n",
    "    anno_list.append(image_anno_list)\n",
    "    if len(image_anno_list) == 0:\n",
    "        is_background_list.append(True)\n",
    "    else:\n",
    "        is_background_list.append(False)"
   ]
  },
  {
   "cell_type": "code",
   "execution_count": 53,
   "id": "2b8cb2ed",
   "metadata": {},
   "outputs": [],
   "source": [
    "data_df = pd.DataFrame({\n",
    "    \"image_name\" : image_name_list,\n",
    "    \"image_path\" : image_path_list,\n",
    "    \"annotations\" : anno_list,\n",
    "    \"is_background\" : is_background_list\n",
    "    }\n",
    ")"
   ]
  },
  {
   "cell_type": "code",
   "execution_count": 54,
   "id": "fdcdd338",
   "metadata": {},
   "outputs": [
    {
     "data": {
      "text/html": [
       "<div>\n",
       "<style scoped>\n",
       "    .dataframe tbody tr th:only-of-type {\n",
       "        vertical-align: middle;\n",
       "    }\n",
       "\n",
       "    .dataframe tbody tr th {\n",
       "        vertical-align: top;\n",
       "    }\n",
       "\n",
       "    .dataframe thead th {\n",
       "        text-align: right;\n",
       "    }\n",
       "</style>\n",
       "<table border=\"1\" class=\"dataframe\">\n",
       "  <thead>\n",
       "    <tr style=\"text-align: right;\">\n",
       "      <th></th>\n",
       "      <th>image_name</th>\n",
       "      <th>image_path</th>\n",
       "      <th>annotations</th>\n",
       "      <th>is_background</th>\n",
       "    </tr>\n",
       "  </thead>\n",
       "  <tbody>\n",
       "    <tr>\n",
       "      <th>0</th>\n",
       "      <td>maksssksksss0.png</td>\n",
       "      <td>s3://sixsense-organization-assets/ayush/labeli...</td>\n",
       "      <td>[{'label': 0, 'center_x': 0.4092, 'center_y': ...</td>\n",
       "      <td>False</td>\n",
       "    </tr>\n",
       "    <tr>\n",
       "      <th>1</th>\n",
       "      <td>maksssksksss1.png</td>\n",
       "      <td>s3://sixsense-organization-assets/ayush/labeli...</td>\n",
       "      <td>[{'label': 0, 'center_x': 0.61, 'center_y': 0....</td>\n",
       "      <td>False</td>\n",
       "    </tr>\n",
       "    <tr>\n",
       "      <th>2</th>\n",
       "      <td>maksssksksss2.png</td>\n",
       "      <td>s3://sixsense-organization-assets/ayush/labeli...</td>\n",
       "      <td>[{'label': 0, 'center_x': 0.2213, 'center_y': ...</td>\n",
       "      <td>False</td>\n",
       "    </tr>\n",
       "    <tr>\n",
       "      <th>3</th>\n",
       "      <td>maksssksksss3.png</td>\n",
       "      <td>s3://sixsense-organization-assets/ayush/labeli...</td>\n",
       "      <td>[{'label': 0, 'center_x': 0.4963, 'center_y': ...</td>\n",
       "      <td>False</td>\n",
       "    </tr>\n",
       "    <tr>\n",
       "      <th>4</th>\n",
       "      <td>maksssksksss4.png</td>\n",
       "      <td>s3://sixsense-organization-assets/ayush/labeli...</td>\n",
       "      <td>[{'label': 0, 'center_x': 0.4252, 'center_y': ...</td>\n",
       "      <td>False</td>\n",
       "    </tr>\n",
       "  </tbody>\n",
       "</table>\n",
       "</div>"
      ],
      "text/plain": [
       "          image_name                                         image_path  \\\n",
       "0  maksssksksss0.png  s3://sixsense-organization-assets/ayush/labeli...   \n",
       "1  maksssksksss1.png  s3://sixsense-organization-assets/ayush/labeli...   \n",
       "2  maksssksksss2.png  s3://sixsense-organization-assets/ayush/labeli...   \n",
       "3  maksssksksss3.png  s3://sixsense-organization-assets/ayush/labeli...   \n",
       "4  maksssksksss4.png  s3://sixsense-organization-assets/ayush/labeli...   \n",
       "\n",
       "                                         annotations  is_background  \n",
       "0  [{'label': 0, 'center_x': 0.4092, 'center_y': ...          False  \n",
       "1  [{'label': 0, 'center_x': 0.61, 'center_y': 0....          False  \n",
       "2  [{'label': 0, 'center_x': 0.2213, 'center_y': ...          False  \n",
       "3  [{'label': 0, 'center_x': 0.4963, 'center_y': ...          False  \n",
       "4  [{'label': 0, 'center_x': 0.4252, 'center_y': ...          False  "
      ]
     },
     "execution_count": 54,
     "metadata": {},
     "output_type": "execute_result"
    }
   ],
   "source": [
    "data_df.head()"
   ]
  },
  {
   "cell_type": "code",
   "execution_count": 26,
   "id": "6f670964",
   "metadata": {},
   "outputs": [
    {
     "data": {
      "text/plain": [
       "{'source-ref': 's3://sixsense-organization-assets/ayush/labeling_job_test/dataset-small/maksssksksss6.png',\n",
       " 'category': {'image_size': [{'width': 600, 'height': 405, 'depth': 3}],\n",
       "  'annotations': [{'class_id': 0,\n",
       "    'top': 134,\n",
       "    'left': 226,\n",
       "    'height': 128,\n",
       "    'width': 189}]},\n",
       " 'category-metadata': {'objects': [{'confidence': 0}],\n",
       "  'class-map': {'0': 'MASK'},\n",
       "  'type': 'groundtruth/object-detection',\n",
       "  'human-annotated': 'yes',\n",
       "  'creation-date': '2023-02-09T19:14:54.584843',\n",
       "  'job-name': 'labeling-job/automated-labelling-5'}}"
      ]
     },
     "execution_count": 26,
     "metadata": {},
     "output_type": "execute_result"
    }
   ],
   "source": [
    "image_data"
   ]
  },
  {
   "cell_type": "code",
   "execution_count": 29,
   "id": "84ae3de6",
   "metadata": {},
   "outputs": [],
   "source": [
    "image_path = image_data.get('source-ref')\n",
    "anno_info = image_data.get('category')\n",
    "label_info = image_data.get('category-metadata').get('class-map')"
   ]
  },
  {
   "cell_type": "code",
   "execution_count": 35,
   "id": "c6a0f3d7",
   "metadata": {},
   "outputs": [
    {
     "data": {
      "text/plain": [
       "{'image_size': [{'width': 512, 'height': 366, 'depth': 3}],\n",
       " 'annotations': [{'class_id': 0,\n",
       "   'top': 105,\n",
       "   'left': 176,\n",
       "   'height': 49,\n",
       "   'width': 67}]}"
      ]
     },
     "execution_count": 35,
     "metadata": {},
     "output_type": "execute_result"
    }
   ],
   "source": [
    "\n",
    "\n",
    "\n",
    "anno_info"
   ]
  },
  {
   "cell_type": "code",
   "execution_count": 38,
   "id": "566f9325",
   "metadata": {},
   "outputs": [
    {
     "data": {
      "text/plain": [
       "{'objects': [{'confidence': 0}],\n",
       " 'class-map': {'0': 'MASK'},\n",
       " 'type': 'groundtruth/object-detection',\n",
       " 'human-annotated': 'yes',\n",
       " 'creation-date': '2023-02-09T19:18:04.222070',\n",
       " 'job-name': 'labeling-job/automated-labelling-5'}"
      ]
     },
     "execution_count": 38,
     "metadata": {},
     "output_type": "execute_result"
    }
   ],
   "source": [
    "image_data['category-metadata']"
   ]
  },
  {
   "cell_type": "code",
   "execution_count": null,
   "id": "0ca471dd",
   "metadata": {},
   "outputs": [],
   "source": []
  }
 ],
 "metadata": {
  "kernelspec": {
   "display_name": "Python 3 (ipykernel)",
   "language": "python",
   "name": "python3"
  },
  "language_info": {
   "codemirror_mode": {
    "name": "ipython",
    "version": 3
   },
   "file_extension": ".py",
   "mimetype": "text/x-python",
   "name": "python",
   "nbconvert_exporter": "python",
   "pygments_lexer": "ipython3",
   "version": "3.8.9"
  }
 },
 "nbformat": 4,
 "nbformat_minor": 5
}

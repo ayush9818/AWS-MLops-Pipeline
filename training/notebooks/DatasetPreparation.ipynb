{
 "cells": [
  {
   "cell_type": "code",
   "execution_count": 64,
   "id": "c72177fe",
   "metadata": {},
   "outputs": [],
   "source": [
    "import os\n",
    "import json\n",
    "import pandas as pd"
   ]
  },
  {
   "cell_type": "code",
   "execution_count": 65,
   "id": "b9daf518",
   "metadata": {},
   "outputs": [],
   "source": [
    "with open('../configs/output.manifest','r') as f:\n",
    "    dataset = f.read().split('\\n')"
   ]
  },
  {
   "cell_type": "code",
   "execution_count": 66,
   "id": "9a5e7e11",
   "metadata": {},
   "outputs": [],
   "source": [
    "def format_annotation(img_h, img_w, x_top, y_top, box_w, box_h, class_id):\n",
    "    center_x = round((x_top + (box_w / 2)) / img_w,4)\n",
    "    center_y = round((y_top + (box_h / 2)) / img_h,4)\n",
    "    w = round(box_w / img_w,4)\n",
    "    h = round(box_h / img_h,4)\n",
    "    anno_dict = {\n",
    "        'label' : class_id,\n",
    "        'center_x' : center_x,\n",
    "        'center_y' : center_y,\n",
    "        'w' : w,\n",
    "        'h' : h\n",
    "    }\n",
    "    return anno_dict\n",
    "                \n",
    "\n",
    "def get_annotations(anno_info, label_info):\n",
    "    img_h = anno_info.get('image_size')[0].get('height')\n",
    "    img_w = anno_info.get('image_size')[0].get('width')\n",
    "    temp_anno_list = []\n",
    "    for anno in anno_info.get('annotations'):\n",
    "        class_id = anno.get('class_id')\n",
    "        x_top = anno.get('left')\n",
    "        y_top = anno.get('top')\n",
    "        box_w = anno.get('width')\n",
    "        box_h = anno.get('height')\n",
    "        anno_dict = format_annotation(img_h, img_w, x_top, y_top, box_w, box_h, class_id)\n",
    "        temp_anno_list.append(anno_dict)\n",
    "    return temp_anno_list\n",
    "        \n",
    "    "
   ]
  },
  {
   "cell_type": "code",
   "execution_count": 67,
   "id": "4d9d00c4",
   "metadata": {},
   "outputs": [],
   "source": [
    "image_path_list = []\n",
    "image_name_list = []\n",
    "anno_list = []\n",
    "is_background_list = []\n",
    "\n",
    "\n",
    "for image_data in dataset[:-1]:\n",
    "    image_data = json.loads(image_data)\n",
    "    image_path = image_data.get('source-ref')\n",
    "    anno_info = image_data.get('category')\n",
    "    label_info = image_data.get('category-metadata').get('class-map')\n",
    "    image_anno_list = get_annotations(anno_info, label_info)\n",
    "    \n",
    "    image_path_list.append(image_path)\n",
    "    image_name_list.append(os.path.basename(image_path))\n",
    "    anno_list.append(image_anno_list)\n",
    "    if len(image_anno_list) == 0:\n",
    "        is_background_list.append(True)\n",
    "    else:\n",
    "        is_background_list.append(False)"
   ]
  },
  {
   "cell_type": "code",
   "execution_count": 68,
   "id": "2b8cb2ed",
   "metadata": {},
   "outputs": [],
   "source": [
    "data_df = pd.DataFrame({\n",
    "    \"image_name\" : image_name_list,\n",
    "    \"s3_path\" : image_path_list,\n",
    "    \"annotations\" : anno_list,\n",
    "    \"is_background\" : is_background_list\n",
    "    }\n",
    ")"
   ]
  },
  {
   "cell_type": "code",
   "execution_count": 69,
   "id": "fdcdd338",
   "metadata": {},
   "outputs": [
    {
     "data": {
      "text/html": [
       "<div>\n",
       "<style scoped>\n",
       "    .dataframe tbody tr th:only-of-type {\n",
       "        vertical-align: middle;\n",
       "    }\n",
       "\n",
       "    .dataframe tbody tr th {\n",
       "        vertical-align: top;\n",
       "    }\n",
       "\n",
       "    .dataframe thead th {\n",
       "        text-align: right;\n",
       "    }\n",
       "</style>\n",
       "<table border=\"1\" class=\"dataframe\">\n",
       "  <thead>\n",
       "    <tr style=\"text-align: right;\">\n",
       "      <th></th>\n",
       "      <th>image_name</th>\n",
       "      <th>s3_path</th>\n",
       "      <th>annotations</th>\n",
       "      <th>is_background</th>\n",
       "    </tr>\n",
       "  </thead>\n",
       "  <tbody>\n",
       "    <tr>\n",
       "      <th>0</th>\n",
       "      <td>maksssksksss0.png</td>\n",
       "      <td>s3://sixsense-organization-assets/ayush/labeli...</td>\n",
       "      <td>[{'label': 0, 'center_x': 0.4092, 'center_y': ...</td>\n",
       "      <td>False</td>\n",
       "    </tr>\n",
       "    <tr>\n",
       "      <th>1</th>\n",
       "      <td>maksssksksss1.png</td>\n",
       "      <td>s3://sixsense-organization-assets/ayush/labeli...</td>\n",
       "      <td>[{'label': 0, 'center_x': 0.61, 'center_y': 0....</td>\n",
       "      <td>False</td>\n",
       "    </tr>\n",
       "    <tr>\n",
       "      <th>2</th>\n",
       "      <td>maksssksksss2.png</td>\n",
       "      <td>s3://sixsense-organization-assets/ayush/labeli...</td>\n",
       "      <td>[{'label': 0, 'center_x': 0.2213, 'center_y': ...</td>\n",
       "      <td>False</td>\n",
       "    </tr>\n",
       "    <tr>\n",
       "      <th>3</th>\n",
       "      <td>maksssksksss3.png</td>\n",
       "      <td>s3://sixsense-organization-assets/ayush/labeli...</td>\n",
       "      <td>[{'label': 0, 'center_x': 0.4963, 'center_y': ...</td>\n",
       "      <td>False</td>\n",
       "    </tr>\n",
       "    <tr>\n",
       "      <th>4</th>\n",
       "      <td>maksssksksss4.png</td>\n",
       "      <td>s3://sixsense-organization-assets/ayush/labeli...</td>\n",
       "      <td>[{'label': 0, 'center_x': 0.4252, 'center_y': ...</td>\n",
       "      <td>False</td>\n",
       "    </tr>\n",
       "  </tbody>\n",
       "</table>\n",
       "</div>"
      ],
      "text/plain": [
       "          image_name                                            s3_path  \\\n",
       "0  maksssksksss0.png  s3://sixsense-organization-assets/ayush/labeli...   \n",
       "1  maksssksksss1.png  s3://sixsense-organization-assets/ayush/labeli...   \n",
       "2  maksssksksss2.png  s3://sixsense-organization-assets/ayush/labeli...   \n",
       "3  maksssksksss3.png  s3://sixsense-organization-assets/ayush/labeli...   \n",
       "4  maksssksksss4.png  s3://sixsense-organization-assets/ayush/labeli...   \n",
       "\n",
       "                                         annotations  is_background  \n",
       "0  [{'label': 0, 'center_x': 0.4092, 'center_y': ...          False  \n",
       "1  [{'label': 0, 'center_x': 0.61, 'center_y': 0....          False  \n",
       "2  [{'label': 0, 'center_x': 0.2213, 'center_y': ...          False  \n",
       "3  [{'label': 0, 'center_x': 0.4963, 'center_y': ...          False  \n",
       "4  [{'label': 0, 'center_x': 0.4252, 'center_y': ...          False  "
      ]
     },
     "execution_count": 69,
     "metadata": {},
     "output_type": "execute_result"
    }
   ],
   "source": [
    "data_df.head()"
   ]
  },
  {
   "cell_type": "code",
   "execution_count": 70,
   "id": "0ca471dd",
   "metadata": {},
   "outputs": [
    {
     "data": {
      "text/plain": [
       "[{'label': 0,\n",
       "  'center_x': 0.4092,\n",
       "  'center_y': 0.3538,\n",
       "  'w': 0.1309,\n",
       "  'h': 0.1339}]"
      ]
     },
     "execution_count": 70,
     "metadata": {},
     "output_type": "execute_result"
    }
   ],
   "source": [
    "data_df.annotations.tolist()[0]"
   ]
  },
  {
   "cell_type": "code",
   "execution_count": 75,
   "id": "a6bc6318",
   "metadata": {},
   "outputs": [],
   "source": [
    "def prepare_label_files(df, label_save_path):\n",
    "    for idx,row in df.iterrows():\n",
    "        if row['is_background']:\n",
    "            continue\n",
    "        image_path = row['s3_path']\n",
    "        image_name = os.path.basename(image_path)\n",
    "        image_extension = image_name.split('.')[-1]\n",
    "        label_file_name = image_name.replace(f\".{image_extension}\",\".txt\")\n",
    "        print(image_name, image_extension, label_file_name)\n",
    "        with open(os.path.join(label_save_path,label_file_name),'w') as f:\n",
    "            for anno in row['annotations']:\n",
    "                f.writelines(f\"{anno['label']} {anno['center_x']} {anno['center_y']} {anno['w']} {anno['h']}\\n\")"
   ]
  },
  {
   "cell_type": "code",
   "execution_count": 76,
   "id": "36413385",
   "metadata": {},
   "outputs": [
    {
     "name": "stdout",
     "output_type": "stream",
     "text": [
      "maksssksksss0.png png maksssksksss0.txt\n",
      "maksssksksss1.png png maksssksksss1.txt\n",
      "maksssksksss2.png png maksssksksss2.txt\n",
      "maksssksksss3.png png maksssksksss3.txt\n",
      "maksssksksss4.png png maksssksksss4.txt\n",
      "maksssksksss5.png png maksssksksss5.txt\n",
      "maksssksksss6.png png maksssksksss6.txt\n"
     ]
    }
   ],
   "source": [
    "save_path = '../data/sample/'\n",
    "os.makedirs(save_path,exist_ok=True)\n",
    "prepare_label_files(data_df,save_path)"
   ]
  },
  {
   "cell_type": "code",
   "execution_count": 77,
   "id": "8b8811db",
   "metadata": {},
   "outputs": [
    {
     "name": "stdout",
     "output_type": "stream",
     "text": [
      "/Users/dare_devil/Documents/pythonProject/Asurion/AWS_SAGEMAKER_PIPELINE/training/notebooks\r\n"
     ]
    }
   ],
   "source": [
    "! pwd"
   ]
  },
  {
   "cell_type": "code",
   "execution_count": 78,
   "id": "3c314258",
   "metadata": {},
   "outputs": [
    {
     "name": "stdout",
     "output_type": "stream",
     "text": [
      "Completed 247.6 KiB/247.6 KiB (323.6 KiB/s) with 1 file(s) remaining\r",
      "download: s3://sixsense-organization-assets/ayush/labeling_job_test/dataset-small/maksssksksss4.png to ./maksssksksss4.png\r\n"
     ]
    }
   ],
   "source": [
    "! aws s3 cp s3://sixsense-organization-assets/ayush/labeling_job_test/dataset-small/maksssksksss4.png ."
   ]
  },
  {
   "cell_type": "code",
   "execution_count": 79,
   "id": "0a756930",
   "metadata": {},
   "outputs": [],
   "source": [
    "import boto3\n",
    "resource = boto3.resource('s3')\n",
    "my_bucket = resource.Bucket('sixsense-organization-assets')\n",
    "my_bucket.download_file('ayush/labeling_job_test/dataset-small/maksssksksss4.png','./maksssksksss4.png')"
   ]
  },
  {
   "cell_type": "code",
   "execution_count": null,
   "id": "d26ae79a",
   "metadata": {},
   "outputs": [],
   "source": []
  }
 ],
 "metadata": {
  "kernelspec": {
   "display_name": "Python 3 (ipykernel)",
   "language": "python",
   "name": "python3"
  },
  "language_info": {
   "codemirror_mode": {
    "name": "ipython",
    "version": 3
   },
   "file_extension": ".py",
   "mimetype": "text/x-python",
   "name": "python",
   "nbconvert_exporter": "python",
   "pygments_lexer": "ipython3",
   "version": "3.8.9"
  }
 },
 "nbformat": 4,
 "nbformat_minor": 5
}

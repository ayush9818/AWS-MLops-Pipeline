{
 "cells": [
  {
   "cell_type": "code",
   "execution_count": 1,
   "id": "a2121d17",
   "metadata": {},
   "outputs": [
    {
     "name": "stdout",
     "output_type": "stream",
     "text": [
      "Sagemaker Role : arn:aws:iam::050381676378:role/service-role/AmazonSageMaker-ExecutionRole-20230210T000573\n",
      "Region : ap-southeast-1\n"
     ]
    }
   ],
   "source": [
    "import os\n",
    "import sys\n",
    "import sagemaker\n",
    "import pandas as pd\n",
    "import boto3\n",
    "import numpy as np\n",
    "from sagemaker import get_execution_role\n",
    "import json\n",
    "import warnings\n",
    "warnings.filterwarnings('ignore')\n",
    "\n",
    "sess = sagemaker.Session()\n",
    "\n",
    "\n",
    "role = get_execution_role()\n",
    "region = sess.boto_session.region_name\n",
    "\n",
    "print(f\"Sagemaker Role : {role}\")\n",
    "print(f\"Region : {region}\")"
   ]
  },
  {
   "cell_type": "code",
   "execution_count": 2,
   "id": "c7853262",
   "metadata": {},
   "outputs": [
    {
     "name": "stdout",
     "output_type": "stream",
     "text": [
      "s3://sixsense-organization-assets/ayush/labeling_job_test/dataset-small/sample.manifest\n",
      "s3://sixsense-organization-assets/ayush/labeling_job_test/labelling_test/\n",
      "s3://sixsense-organization-assets/ayush/labeling_job_test/labelling_test/labels.json\n"
     ]
    }
   ],
   "source": [
    "# ARN of PRIVATE WORK TEAM CREATED USING SAGEMAKER UI WHICH IS TO BE USED TO BE LABEL THE DATA \n",
    "PRIVATE_WORKTEAM_ARN = \"arn:aws:sagemaker:ap-southeast-1:050381676378:workteam/private-crowd/test-labelling-team-1\"\n",
    "BOUNDING_BOX_PREHUMAN_ARN = \"arn:aws:lambda:ap-southeast-1:377565633583:function:PRE-BoundingBox\"\n",
    "BOUNDING_BOX_ACS_ARN = \"arn:aws:lambda:ap-southeast-1:377565633583:function:ACS-BoundingBox\"\n",
    "\n",
    "# S3 PATH OF THE DATASET . PATH WHERE IMAGES ARE LOCATED \n",
    "DATASET_PATH = 'ayush/labeling_job_test/dataset-small/'\n",
    "BUCKET_NAME = \"sixsense-organization-assets\"\n",
    "MANIFEST_UPLOAD_DIR = DATASET_PATH\n",
    "MANIFEST_FILE_NAME = 'sample.manifest'\n",
    "\n",
    "OUTPUT_DIR = 'ayush/labeling_job_test/labelling_test/'\n",
    "\n",
    "LABEL_LIST = [\"MASK\"]\n",
    "LABEL_FILE_UPLOAD_DIR = \"ayush/labeling_job_test/labelling_test/\"\n",
    "LABEL_FILE_NAME = \"labels.json\"\n",
    "\n",
    "JOB_NAME_PREFIX = \"automated-labelling-5\"\n",
    "TASK_DESCRIPTION = \"Draw boxes on the faces wearking masks\"\n",
    "TASK_KEYWORDS = [\"BoundingBox\"]\n",
    "TASK_TITLE = \"MASK Detection Labelling\"\n",
    "\n",
    "MaxConcurrentTaskCount=200\n",
    "NumberOfHumanWorkersPerDataObject=1\n",
    "TaskAvailabilityLifetimeInSeconds=3600 # 1 hour\n",
    "TaskTimeLimitInSeconds=300 # 5 minutes\n",
    "TEMPLATE_FILE_URI=\"s3://sixsense-organization-assets/ayush/labeling_job_test/labelling_test/instructions.template\"\n",
    "\n",
    "MANIFEST_FILE_URI = os.path.join(f\"s3://{BUCKET_NAME}\",MANIFEST_UPLOAD_DIR,MANIFEST_FILE_NAME)\n",
    "OUTPUT_PATH_URI = os.path.join(f\"s3://{BUCKET_NAME}\",OUTPUT_DIR)\n",
    "LABEL_FILE_URI = os.path.join(f\"s3://{BUCKET_NAME}\",LABEL_FILE_UPLOAD_DIR,LABEL_FILE_NAME)\n",
    "print(MANIFEST_FILE_URI)\n",
    "print(OUTPUT_PATH_URI)\n",
    "print(LABEL_FILE_URI)"
   ]
  },
  {
   "cell_type": "code",
   "execution_count": 3,
   "id": "484e1790",
   "metadata": {},
   "outputs": [],
   "source": [
    "from IPython.core.display import HTML, display\n",
    "\n",
    "\n",
    "def make_template(test_template=False, save_fname=\"instructions.template\"):\n",
    "    template = r\"\"\"<script src=\"https://assets.crowd.aws/crowd-html-elements.js\"></script>\n",
    "        <crowd-form>\n",
    "          <crowd-bounding-box\n",
    "            name=\"boundingBox\"\n",
    "            src=\"{{ task.input.taskObject | grant_read_access }}\"\n",
    "            header=\"please draw box\"\n",
    "            labels=\"{{ task.input.labels | to_json | escape }}\"\n",
    "          >\n",
    "\n",
    "            <full-instructions header=\"Bounding box instructions\">\n",
    "              <ol><li><strong>Inspect</strong> the image</li><li><strong>Determine</strong> \n",
    "              if the specified label is/are visible in the picture.</li>\n",
    "              <li><strong>Outline</strong> each instance of the specified label in the image using the provided “Box” tool.</li></ol>\n",
    "              <ul><li>Boxes should fit tight around each object</li>\n",
    "              <li>Do not include parts of the object are overlapping or that cannot be seen, even though you think you can interpolate the whole shape.</li>\n",
    "              <li>Avoid including shadows.</li>\n",
    "              <li>If the target is off screen, draw the box up to the edge of the image.</li>    \n",
    "            </full-instructions>\n",
    "\n",
    "            <short-instructions>\n",
    "              <h3><span style=\"color: rgb(0, 138, 0);\">Good example</span></h3>\n",
    "              <p>Enter description of a correct bounding box label and add images</p>\n",
    "              <h3><span style=\"color: rgb(230, 0, 0);\">Bad example</span></h3>\n",
    "              <p>Enter description of an incorrect bounding box label and add images</p>\n",
    "            </short-instructions>\n",
    "\n",
    "          </crowd-bounding-box>\n",
    "        </crowd-form>\n",
    "    \"\"\"\n",
    "    with open(save_fname, \"w\") as f:\n",
    "        f.write(template)\n",
    "\n",
    "\n",
    "#make_template(test_template=True, save_fname=\"instructions.html\")\n",
    "make_template(test_template=False, save_fname=\"instructions.template\")\n",
    "s3 = boto3.resource('s3')\n",
    "dataset_bucket = s3.Bucket(BUCKET_NAME)\n",
    "dataset_bucket.upload_file(\"instructions.template\", os.path.join(OUTPUT_DIR,'instructions.template'))"
   ]
  },
  {
   "cell_type": "code",
   "execution_count": 4,
   "id": "006b6697",
   "metadata": {},
   "outputs": [],
   "source": [
    "def generate_manifest_file(bucket_name, dataset_path, manifest_upload_dir, manifest_file_name):\n",
    "    \"\"\"\n",
    "    Generates a manifest file containing the location of images used in the labelling job\n",
    "    params:\n",
    "        bucket_name : s3 bucket name \n",
    "        dataset_path : relative s3 path of the image dataset \n",
    "        manifest_upload_dir : s3 directory to upload the manifest file\n",
    "        manifest_file_name : name of the manifest file \n",
    "    \"\"\"\n",
    "    image_extensions = ['png', 'jpg', 'jpeg']\n",
    "    local_manifest_file_path = os.path.join(os.getcwd(), manifest_file_name)\n",
    "    s3 = boto3.resource('s3')\n",
    "    dataset_bucket = s3.Bucket(bucket_name)\n",
    "    with open(local_manifest_file_path,'w') as outfile:\n",
    "        for object_summary in dataset_bucket.objects.filter(Prefix=dataset_path):\n",
    "            object_key = object_summary.key\n",
    "            file_extension  = object_key.split('.')[-1]\n",
    "            if file_extension in image_extensions:\n",
    "                file_name  = object_key.split('/')[-1]\n",
    "                file_path = os.path.join(f\"s3://{bucket_name}\",dataset_path,file_name)\n",
    "                data_dict = {\"source-ref\": file_path}\n",
    "                outfile.write(json.dumps(data_dict) + \"\\n\") \n",
    "    print(f\"Manifest File Creation Done. Uploading Manifest file to : {manifest_upload_dir}\")\n",
    "    try:\n",
    "        dataset_bucket.upload_file(local_manifest_file_path, os.path.join(manifest_upload_dir,manifest_file_name))\n",
    "    except Exception as e:\n",
    "        raise Exception(f\"Failed to Upload {local_manifest_file_path} to {manifest_upload_dir}\\nError : {e}\")\n",
    "    print(f\"Upload Successful\")\n",
    "    os.remove(local_manifest_file_path)"
   ]
  },
  {
   "cell_type": "code",
   "execution_count": 5,
   "id": "75da6953",
   "metadata": {},
   "outputs": [
    {
     "name": "stdout",
     "output_type": "stream",
     "text": [
      "Manifest File Creation Done. Uploading Manifest file to : ayush/labeling_job_test/dataset-small/\n",
      "Upload Successful\n"
     ]
    }
   ],
   "source": [
    "generate_manifest_file(bucket_name=BUCKET_NAME,\n",
    "                       dataset_path=DATASET_PATH,\n",
    "                       manifest_upload_dir=MANIFEST_UPLOAD_DIR,\n",
    "                       manifest_file_name=MANIFEST_FILE_NAME)"
   ]
  },
  {
   "cell_type": "code",
   "execution_count": 6,
   "id": "18ed9af7",
   "metadata": {},
   "outputs": [],
   "source": [
    "def generate_label_file(bucket_name, label_list, label_file_name, label_file_upload_dir):\n",
    "    \"\"\"\n",
    "    Generate a json file containing information of labels to be annotated and upload on S3\n",
    "    params:\n",
    "        bucket_name : S3 Bucket Name\n",
    "        label_list : list of labels to be annotated \n",
    "        label_file_name : name of label file \n",
    "        label_file_upload_dir : s3 directory to upload label file\n",
    "    \"\"\"\n",
    "    label_dict = {\"labels\": [{\"label\": label} for label in label_list]}\n",
    "    local_label_file_path = os.path.join(os.getcwd(), label_file_name)\n",
    "    with open(local_label_file_path,'w') as f:\n",
    "        json.dump(label_dict,f)\n",
    "        \n",
    "    s3 = boto3.resource('s3')\n",
    "    s3_bucket = s3.Bucket(bucket_name)\n",
    "    print(f\"Uploading Label File {label_file_name} to {label_file_upload_dir}\")\n",
    "    try:\n",
    "        s3_bucket.upload_file(local_label_file_path, os.path.join(label_file_upload_dir,label_file_name))\n",
    "    except Exception as e:\n",
    "        raise Exception(f\"Failed to upload {local_label_file_path} to {label_file_upload_dir}\")\n",
    "    print(\"Uploaded Successfully\")\n",
    "    os.remove(local_label_file_path)"
   ]
  },
  {
   "cell_type": "code",
   "execution_count": 7,
   "id": "330c0b07",
   "metadata": {},
   "outputs": [
    {
     "name": "stdout",
     "output_type": "stream",
     "text": [
      "Uploading Label File labels.json to ayush/labeling_job_test/labelling_test/\n",
      "Uploaded Successfully\n"
     ]
    }
   ],
   "source": [
    "generate_label_file(bucket_name=BUCKET_NAME, \n",
    "                    label_list=LABEL_LIST,\n",
    "                    label_file_name=LABEL_FILE_NAME,\n",
    "                    label_file_upload_dir=LABEL_FILE_UPLOAD_DIR)"
   ]
  },
  {
   "cell_type": "code",
   "execution_count": 8,
   "id": "e05f52dc",
   "metadata": {},
   "outputs": [],
   "source": [
    "def create_human_task_config(acs_arn,\n",
    "                             pre_human_arn,\n",
    "                             MaxConcurrentTaskCount,\n",
    "                             NumberOfHumanWorkersPerDataObject,\n",
    "                             TaskAvailabilityLifetimeInSeconds,\n",
    "                             TaskTimeLimitInSeconds,\n",
    "                             TaskDescription,\n",
    "                             TaskKeywords,\n",
    "                             TaskTitle,\n",
    "                             template_file_uri,\n",
    "                             work_team_arn\n",
    "                            ):\n",
    "    \"\"\"\n",
    "    The function will create a config defining certain rules and parameters for human labellers\n",
    "    params:\n",
    "        acs_arn : ACS arn for bounding box job in ap-southeast-1\n",
    "        pre_human_arn : Pre-Human arn for bounding box job in ap-southeast-1\n",
    "        MaxConcurrentTaskCount : Images sent at a time to the workteam\n",
    "        NumberOfHumanWorkersPerDataObject : Workers to label each image\n",
    "        TaskAvailabilityLifetimeInSeconds : Time to complete all pending tasks\n",
    "        TaskTimeLimitInSeconds :  Time to complete each image\n",
    "        TaskDescription : Brief description of the task \n",
    "        TaskKeywords : Keywords related to Task\n",
    "        TaskTitle : Title of the task,\n",
    "        template_file_uri : Template of the file containing description and rules for the job\n",
    "        work_team_arn : \n",
    "    returns:\n",
    "        human_task_config\n",
    "    \"\"\"\n",
    "    human_task_config = {\n",
    "        \"AnnotationConsolidationConfig\": {\n",
    "            \"AnnotationConsolidationLambdaArn\": acs_arn,\n",
    "        },\n",
    "        \"PreHumanTaskLambdaArn\": pre_human_arn,\n",
    "        \"MaxConcurrentTaskCount\": MaxConcurrentTaskCount, \n",
    "        \"NumberOfHumanWorkersPerDataObject\": NumberOfHumanWorkersPerDataObject,\n",
    "        \"TaskAvailabilityLifetimeInSeconds\": TaskAvailabilityLifetimeInSeconds, \n",
    "        \"TaskDescription\": TaskDescription,\n",
    "        \"TaskKeywords\": TaskKeywords,\n",
    "        \"TaskTimeLimitInSeconds\": TaskTimeLimitInSeconds,  \n",
    "        \"TaskTitle\": TaskTitle,\n",
    "        \"UiConfig\": {\n",
    "            \"UiTemplateS3Uri\": template_file_uri,\n",
    "        },\n",
    "        \"WorkteamArn\" : work_team_arn\n",
    "    }\n",
    "    return human_task_config"
   ]
  },
  {
   "cell_type": "code",
   "execution_count": 9,
   "id": "97892948",
   "metadata": {},
   "outputs": [
    {
     "data": {
      "text/plain": [
       "{'AnnotationConsolidationConfig': {'AnnotationConsolidationLambdaArn': 'arn:aws:lambda:ap-southeast-1:377565633583:function:ACS-BoundingBox'},\n",
       " 'PreHumanTaskLambdaArn': 'arn:aws:lambda:ap-southeast-1:377565633583:function:PRE-BoundingBox',\n",
       " 'MaxConcurrentTaskCount': 200,\n",
       " 'NumberOfHumanWorkersPerDataObject': 1,\n",
       " 'TaskAvailabilityLifetimeInSeconds': 3600,\n",
       " 'TaskDescription': 'Draw boxes on the faces wearking masks',\n",
       " 'TaskKeywords': ['BoundingBox'],\n",
       " 'TaskTimeLimitInSeconds': 300,\n",
       " 'TaskTitle': 'MASK Detection Labelling',\n",
       " 'UiConfig': {'UiTemplateS3Uri': 's3://sixsense-organization-assets/ayush/labeling_job_test/labelling_test/instructions.template'},\n",
       " 'WorkteamArn': 'arn:aws:sagemaker:ap-southeast-1:050381676378:workteam/private-crowd/test-labelling-team-1'}"
      ]
     },
     "execution_count": 9,
     "metadata": {},
     "output_type": "execute_result"
    }
   ],
   "source": [
    "human_task_config = create_human_task_config(acs_arn=BOUNDING_BOX_ACS_ARN,\n",
    "                             pre_human_arn=BOUNDING_BOX_PREHUMAN_ARN,\n",
    "                             MaxConcurrentTaskCount=MaxConcurrentTaskCount,\n",
    "                             NumberOfHumanWorkersPerDataObject=NumberOfHumanWorkersPerDataObject,\n",
    "                             TaskAvailabilityLifetimeInSeconds=TaskAvailabilityLifetimeInSeconds,\n",
    "                             TaskTimeLimitInSeconds=TaskTimeLimitInSeconds,\n",
    "                             TaskDescription=TASK_DESCRIPTION,\n",
    "                             TaskKeywords=TASK_KEYWORDS,\n",
    "                             TaskTitle=TASK_TITLE,\n",
    "                             template_file_uri=TEMPLATE_FILE_URI,\n",
    "                             work_team_arn=PRIVATE_WORKTEAM_ARN\n",
    "                            )\n",
    "human_task_config"
   ]
  },
  {
   "cell_type": "code",
   "execution_count": 10,
   "id": "e650976b",
   "metadata": {},
   "outputs": [],
   "source": [
    "def create_ground_truth_request(manifest_file_uri,\n",
    "                                output_path_uri,\n",
    "                                human_task_config,\n",
    "                                job_name,\n",
    "                                iam_role,\n",
    "                                label_file_uri\n",
    "                               ):\n",
    "    \"\"\"\n",
    "    Generates a ground truth request dictionary to create a labelling job\n",
    "    \"\"\"\n",
    "    ground_truth_request = {\n",
    "        \"InputConfig\": {\n",
    "            \"DataSource\": {\n",
    "                \"S3DataSource\": {\n",
    "                    \"ManifestS3Uri\": manifest_file_uri,\n",
    "                }\n",
    "            },\n",
    "            \"DataAttributes\": {\n",
    "                \"ContentClassifiers\": [\"FreeOfPersonallyIdentifiableInformation\", \"FreeOfAdultContent\"]\n",
    "            },\n",
    "        },\n",
    "        \"OutputConfig\": {\n",
    "            \"S3OutputPath\": output_path_uri,\n",
    "        },\n",
    "        \"HumanTaskConfig\": human_task_config,\n",
    "        \"LabelingJobName\": job_name,\n",
    "        \"RoleArn\": iam_role,\n",
    "        \"LabelAttributeName\": \"category\",\n",
    "        \"LabelCategoryConfigS3Uri\": label_file_uri,\n",
    "    }\n",
    "    return ground_truth_request"
   ]
  },
  {
   "cell_type": "code",
   "execution_count": 11,
   "id": "ff32062f",
   "metadata": {},
   "outputs": [
    {
     "data": {
      "text/plain": [
       "{'InputConfig': {'DataSource': {'S3DataSource': {'ManifestS3Uri': 's3://sixsense-organization-assets/ayush/labeling_job_test/dataset-small/sample.manifest'}},\n",
       "  'DataAttributes': {'ContentClassifiers': ['FreeOfPersonallyIdentifiableInformation',\n",
       "    'FreeOfAdultContent']}},\n",
       " 'OutputConfig': {'S3OutputPath': 's3://sixsense-organization-assets/ayush/labeling_job_test/labelling_test/'},\n",
       " 'HumanTaskConfig': {'AnnotationConsolidationConfig': {'AnnotationConsolidationLambdaArn': 'arn:aws:lambda:ap-southeast-1:377565633583:function:ACS-BoundingBox'},\n",
       "  'PreHumanTaskLambdaArn': 'arn:aws:lambda:ap-southeast-1:377565633583:function:PRE-BoundingBox',\n",
       "  'MaxConcurrentTaskCount': 200,\n",
       "  'NumberOfHumanWorkersPerDataObject': 1,\n",
       "  'TaskAvailabilityLifetimeInSeconds': 3600,\n",
       "  'TaskDescription': 'Draw boxes on the faces wearking masks',\n",
       "  'TaskKeywords': ['BoundingBox'],\n",
       "  'TaskTimeLimitInSeconds': 300,\n",
       "  'TaskTitle': 'MASK Detection Labelling',\n",
       "  'UiConfig': {'UiTemplateS3Uri': 's3://sixsense-organization-assets/ayush/labeling_job_test/labelling_test/instructions.template'},\n",
       "  'WorkteamArn': 'arn:aws:sagemaker:ap-southeast-1:050381676378:workteam/private-crowd/test-labelling-team-1'},\n",
       " 'LabelingJobName': 'automated-labelling-5',\n",
       " 'RoleArn': 'arn:aws:iam::050381676378:role/service-role/AmazonSageMaker-ExecutionRole-20230210T000573',\n",
       " 'LabelAttributeName': 'category',\n",
       " 'LabelCategoryConfigS3Uri': 's3://sixsense-organization-assets/ayush/labeling_job_test/labelling_test/labels.json'}"
      ]
     },
     "execution_count": 11,
     "metadata": {},
     "output_type": "execute_result"
    }
   ],
   "source": [
    "ground_truth_request=create_ground_truth_request(manifest_file_uri=MANIFEST_FILE_URI,\n",
    "                                output_path_uri=OUTPUT_PATH_URI,\n",
    "                                human_task_config=human_task_config,\n",
    "                                job_name=JOB_NAME_PREFIX,\n",
    "                                iam_role=role,\n",
    "                                label_file_uri=LABEL_FILE_URI\n",
    "                               )\n",
    "ground_truth_request"
   ]
  },
  {
   "cell_type": "code",
   "execution_count": 12,
   "id": "8c8a3482",
   "metadata": {},
   "outputs": [
    {
     "data": {
      "text/plain": [
       "{'LabelingJobArn': 'arn:aws:sagemaker:ap-southeast-1:050381676378:labeling-job/automated-labelling-5',\n",
       " 'ResponseMetadata': {'RequestId': 'e958af41-272e-45c3-bdf3-62893f0066ec',\n",
       "  'HTTPStatusCode': 200,\n",
       "  'HTTPHeaders': {'x-amzn-requestid': 'e958af41-272e-45c3-bdf3-62893f0066ec',\n",
       "   'content-type': 'application/x-amz-json-1.1',\n",
       "   'content-length': '101',\n",
       "   'date': 'Thu, 09 Feb 2023 19:11:30 GMT'},\n",
       "  'RetryAttempts': 0}}"
      ]
     },
     "execution_count": 12,
     "metadata": {},
     "output_type": "execute_result"
    }
   ],
   "source": [
    "sagemaker_client = boto3.client(\"sagemaker\")\n",
    "sagemaker_client.create_labeling_job(**ground_truth_request)"
   ]
  },
  {
   "cell_type": "code",
   "execution_count": 14,
   "id": "6c9dbeab",
   "metadata": {},
   "outputs": [
    {
     "data": {
      "text/plain": [
       "'Completed'"
      ]
     },
     "execution_count": 14,
     "metadata": {},
     "output_type": "execute_result"
    }
   ],
   "source": [
    "sagemaker_client = boto3.client(\"sagemaker\")\n",
    "sagemaker_client.describe_labeling_job(LabelingJobName=JOB_NAME_PREFIX)[\"LabelingJobStatus\"]"
   ]
  },
  {
   "cell_type": "code",
   "execution_count": 19,
   "id": "e494fd96",
   "metadata": {},
   "outputs": [
    {
     "name": "stdout",
     "output_type": "stream",
     "text": [
      "download: s3://sixsense-organization-assets/ayush/labeling_job_test/labelling_test/automated-labelling-5/manifests/output/output.manifest to ./output.manifest\r\n"
     ]
    }
   ],
   "source": [
    "! aws s3 cp s3://sixsense-organization-assets/ayush/labeling_job_test/labelling_test/automated-labelling-5/manifests/output/output.manifest ."
   ]
  },
  {
   "cell_type": "code",
   "execution_count": 23,
   "id": "d06c19cf",
   "metadata": {},
   "outputs": [
    {
     "data": {
      "text/plain": [
       "{'source-ref': 's3://sixsense-organization-assets/ayush/labeling_job_test/dataset-small/maksssksksss0.png',\n",
       " 'category': {'image_size': [{'width': 512, 'height': 366, 'depth': 3}],\n",
       "  'annotations': [{'class_id': 0,\n",
       "    'top': 105,\n",
       "    'left': 176,\n",
       "    'height': 49,\n",
       "    'width': 67}]},\n",
       " 'category-metadata': {'objects': [{'confidence': 0}],\n",
       "  'class-map': {'0': 'MASK'},\n",
       "  'type': 'groundtruth/object-detection',\n",
       "  'human-annotated': 'yes',\n",
       "  'creation-date': '2023-02-09T19:18:04.222070',\n",
       "  'job-name': 'labeling-job/automated-labelling-5'}}"
      ]
     },
     "execution_count": 23,
     "metadata": {},
     "output_type": "execute_result"
    }
   ],
   "source": [
    "with open('output.manifest','r') as f:\n",
    "    data = f.read()\n",
    "json.loads(data.split('\\n')[0])"
   ]
  },
  {
   "cell_type": "code",
   "execution_count": null,
   "id": "bfd86881",
   "metadata": {},
   "outputs": [],
   "source": []
  }
 ],
 "metadata": {
  "kernelspec": {
   "display_name": "conda_pytorch_p39",
   "language": "python",
   "name": "conda_pytorch_p39"
  },
  "language_info": {
   "codemirror_mode": {
    "name": "ipython",
    "version": 3
   },
   "file_extension": ".py",
   "mimetype": "text/x-python",
   "name": "python",
   "nbconvert_exporter": "python",
   "pygments_lexer": "ipython3",
   "version": "3.9.13"
  }
 },
 "nbformat": 4,
 "nbformat_minor": 5
}
